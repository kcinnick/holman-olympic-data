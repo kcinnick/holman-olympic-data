{
 "cells": [
  {
   "cell_type": "code",
   "id": "initial_id",
   "metadata": {
    "collapsed": true,
    "ExecuteTime": {
     "end_time": "2024-12-16T23:06:57.412031Z",
     "start_time": "2024-12-16T23:06:57.396667Z"
    }
   },
   "source": [
    "import os\n",
    "\n",
    "from dotenv import load_dotenv\n",
    "import pandas as pd\n",
    "import matplotlib.pyplot as plt\n",
    "import seaborn as sns\n",
    "from sqlalchemy import create_engine\n",
    "\n",
    "# Load environment variables from .env file\n",
    "load_dotenv()"
   ],
   "outputs": [
    {
     "data": {
      "text/plain": [
       "True"
      ]
     },
     "execution_count": 10,
     "metadata": {},
     "output_type": "execute_result"
    }
   ],
   "execution_count": 10
  },
  {
   "metadata": {
    "ExecuteTime": {
     "end_time": "2024-12-16T23:06:58.870752Z",
     "start_time": "2024-12-16T23:06:58.846063Z"
    }
   },
   "cell_type": "code",
   "source": [
    "# Load the countries_age_structure dataset\n",
    "countries_age_structure_df = pd.read_csv(r'C:\\Users\\Nick\\PycharmProjects\\holman-olympic-data\\datasets\\countries_health\\Coutries age structure.csv')\n",
    "countries_age_structure_df.head()"
   ],
   "id": "c54a2e562af33bec",
   "outputs": [
    {
     "data": {
      "text/plain": [
       "    Country Age 0 to 14 Years Age 15 to 64 Years Age above 65 Years\n",
       "0     Japan            12.90%             60.10%                27%\n",
       "1     Italy            13.50%             63.50%                23%\n",
       "2  Portugal            13.60%             64.90%                22%\n",
       "3   Germany            13.10%             65.50%                22%\n",
       "4   Finland            16.40%             62.40%                21%"
      ],
      "text/html": [
       "<div>\n",
       "<style scoped>\n",
       "    .dataframe tbody tr th:only-of-type {\n",
       "        vertical-align: middle;\n",
       "    }\n",
       "\n",
       "    .dataframe tbody tr th {\n",
       "        vertical-align: top;\n",
       "    }\n",
       "\n",
       "    .dataframe thead th {\n",
       "        text-align: right;\n",
       "    }\n",
       "</style>\n",
       "<table border=\"1\" class=\"dataframe\">\n",
       "  <thead>\n",
       "    <tr style=\"text-align: right;\">\n",
       "      <th></th>\n",
       "      <th>Country</th>\n",
       "      <th>Age 0 to 14 Years</th>\n",
       "      <th>Age 15 to 64 Years</th>\n",
       "      <th>Age above 65 Years</th>\n",
       "    </tr>\n",
       "  </thead>\n",
       "  <tbody>\n",
       "    <tr>\n",
       "      <th>0</th>\n",
       "      <td>Japan</td>\n",
       "      <td>12.90%</td>\n",
       "      <td>60.10%</td>\n",
       "      <td>27%</td>\n",
       "    </tr>\n",
       "    <tr>\n",
       "      <th>1</th>\n",
       "      <td>Italy</td>\n",
       "      <td>13.50%</td>\n",
       "      <td>63.50%</td>\n",
       "      <td>23%</td>\n",
       "    </tr>\n",
       "    <tr>\n",
       "      <th>2</th>\n",
       "      <td>Portugal</td>\n",
       "      <td>13.60%</td>\n",
       "      <td>64.90%</td>\n",
       "      <td>22%</td>\n",
       "    </tr>\n",
       "    <tr>\n",
       "      <th>3</th>\n",
       "      <td>Germany</td>\n",
       "      <td>13.10%</td>\n",
       "      <td>65.50%</td>\n",
       "      <td>22%</td>\n",
       "    </tr>\n",
       "    <tr>\n",
       "      <th>4</th>\n",
       "      <td>Finland</td>\n",
       "      <td>16.40%</td>\n",
       "      <td>62.40%</td>\n",
       "      <td>21%</td>\n",
       "    </tr>\n",
       "  </tbody>\n",
       "</table>\n",
       "</div>"
      ]
     },
     "execution_count": 11,
     "metadata": {},
     "output_type": "execute_result"
    }
   ],
   "execution_count": 11
  },
  {
   "metadata": {
    "ExecuteTime": {
     "end_time": "2024-12-16T23:07:03.583610Z",
     "start_time": "2024-12-16T23:07:03.578090Z"
    }
   },
   "cell_type": "code",
   "source": [
    "# Connect to the database\n",
    "database_url = os.getenv(\"DATABASE_URL\")\n",
    "engine = create_engine(database_url, echo=False)"
   ],
   "id": "a6c10a89c6a7003d",
   "outputs": [],
   "execution_count": 13
  },
  {
   "metadata": {
    "ExecuteTime": {
     "end_time": "2024-12-16T23:07:05.498464Z",
     "start_time": "2024-12-16T23:07:05.382044Z"
    }
   },
   "cell_type": "code",
   "source": [
    "# Load the country_olympics data in from the database\n",
    "country_olympics_df = pd.read_sql(\"SELECT * FROM country_olympics\", con=engine)\n",
    "country_olympics_df.head()"
   ],
   "id": "59eb5b61c850bc15",
   "outputs": [
    {
     "data": {
      "text/plain": [
       "  country_id country_name  total_medals  first_year  avg_medals_per_year  \\\n",
       "0        afg  afghanistan             1        2012             1.000000   \n",
       "1        alb      albania             2        2024             2.000000   \n",
       "2        arg    argentina            27        1996             9.000000   \n",
       "3        arm      armenia            17        1996             5.666667   \n",
       "4        aus    australia           331        1994            30.090909   \n",
       "\n",
       "   total_gold  total_silver  total_bronze  years_participated  \n",
       "0           0             0             1                   1  \n",
       "1           0             0             2                   1  \n",
       "2           7             8            12                   7  \n",
       "3           2            10             5                   6  \n",
       "4          99           109           123                  15  "
      ],
      "text/html": [
       "<div>\n",
       "<style scoped>\n",
       "    .dataframe tbody tr th:only-of-type {\n",
       "        vertical-align: middle;\n",
       "    }\n",
       "\n",
       "    .dataframe tbody tr th {\n",
       "        vertical-align: top;\n",
       "    }\n",
       "\n",
       "    .dataframe thead th {\n",
       "        text-align: right;\n",
       "    }\n",
       "</style>\n",
       "<table border=\"1\" class=\"dataframe\">\n",
       "  <thead>\n",
       "    <tr style=\"text-align: right;\">\n",
       "      <th></th>\n",
       "      <th>country_id</th>\n",
       "      <th>country_name</th>\n",
       "      <th>total_medals</th>\n",
       "      <th>first_year</th>\n",
       "      <th>avg_medals_per_year</th>\n",
       "      <th>total_gold</th>\n",
       "      <th>total_silver</th>\n",
       "      <th>total_bronze</th>\n",
       "      <th>years_participated</th>\n",
       "    </tr>\n",
       "  </thead>\n",
       "  <tbody>\n",
       "    <tr>\n",
       "      <th>0</th>\n",
       "      <td>afg</td>\n",
       "      <td>afghanistan</td>\n",
       "      <td>1</td>\n",
       "      <td>2012</td>\n",
       "      <td>1.000000</td>\n",
       "      <td>0</td>\n",
       "      <td>0</td>\n",
       "      <td>1</td>\n",
       "      <td>1</td>\n",
       "    </tr>\n",
       "    <tr>\n",
       "      <th>1</th>\n",
       "      <td>alb</td>\n",
       "      <td>albania</td>\n",
       "      <td>2</td>\n",
       "      <td>2024</td>\n",
       "      <td>2.000000</td>\n",
       "      <td>0</td>\n",
       "      <td>0</td>\n",
       "      <td>2</td>\n",
       "      <td>1</td>\n",
       "    </tr>\n",
       "    <tr>\n",
       "      <th>2</th>\n",
       "      <td>arg</td>\n",
       "      <td>argentina</td>\n",
       "      <td>27</td>\n",
       "      <td>1996</td>\n",
       "      <td>9.000000</td>\n",
       "      <td>7</td>\n",
       "      <td>8</td>\n",
       "      <td>12</td>\n",
       "      <td>7</td>\n",
       "    </tr>\n",
       "    <tr>\n",
       "      <th>3</th>\n",
       "      <td>arm</td>\n",
       "      <td>armenia</td>\n",
       "      <td>17</td>\n",
       "      <td>1996</td>\n",
       "      <td>5.666667</td>\n",
       "      <td>2</td>\n",
       "      <td>10</td>\n",
       "      <td>5</td>\n",
       "      <td>6</td>\n",
       "    </tr>\n",
       "    <tr>\n",
       "      <th>4</th>\n",
       "      <td>aus</td>\n",
       "      <td>australia</td>\n",
       "      <td>331</td>\n",
       "      <td>1994</td>\n",
       "      <td>30.090909</td>\n",
       "      <td>99</td>\n",
       "      <td>109</td>\n",
       "      <td>123</td>\n",
       "      <td>15</td>\n",
       "    </tr>\n",
       "  </tbody>\n",
       "</table>\n",
       "</div>"
      ]
     },
     "execution_count": 14,
     "metadata": {},
     "output_type": "execute_result"
    }
   ],
   "execution_count": 14
  },
  {
   "metadata": {
    "ExecuteTime": {
     "end_time": "2024-12-16T23:07:08.087131Z",
     "start_time": "2024-12-16T23:07:08.056493Z"
    }
   },
   "cell_type": "code",
   "source": [
    "# merge dataframes on country name\n",
    "countries_age_structure_df = countries_age_structure_df.rename(columns={\"Country\": \"country_name\"})\n",
    "# lowercase the country_name column\n",
    "countries_age_structure_df['country_name'] = countries_age_structure_df['country_name'].str.lower()\n",
    "\n",
    "# join on the country_name column\n",
    "merged_df = pd.merge(country_olympics_df, countries_age_structure_df, on='country_name', how='inner')\n",
    "merged_df.head()\n"
   ],
   "id": "6e6a8753d5e8f66a",
   "outputs": [
    {
     "data": {
      "text/plain": [
       "  country_id country_name  total_medals  first_year  avg_medals_per_year  \\\n",
       "0        afg  afghanistan             1        2012             1.000000   \n",
       "1        alb      albania             2        2024             2.000000   \n",
       "2        arg    argentina            27        1996             9.000000   \n",
       "3        arm      armenia            17        1996             5.666667   \n",
       "4        aus    australia           331        1994            30.090909   \n",
       "\n",
       "   total_gold  total_silver  total_bronze  years_participated  \\\n",
       "0           0             0             1                   1   \n",
       "1           0             0             2                   1   \n",
       "2           7             8            12                   7   \n",
       "3           2            10             5                   6   \n",
       "4          99           109           123                  15   \n",
       "\n",
       "  Age 0 to 14 Years Age 15 to 64 Years Age above 65 Years  \n",
       "0            43.20%             54.20%                 3%  \n",
       "1            17.40%             68.90%                13%  \n",
       "2            24.90%             63.90%                11%  \n",
       "3            20.00%             68.80%                11%  \n",
       "4            19.00%             65.50%                16%  "
      ],
      "text/html": [
       "<div>\n",
       "<style scoped>\n",
       "    .dataframe tbody tr th:only-of-type {\n",
       "        vertical-align: middle;\n",
       "    }\n",
       "\n",
       "    .dataframe tbody tr th {\n",
       "        vertical-align: top;\n",
       "    }\n",
       "\n",
       "    .dataframe thead th {\n",
       "        text-align: right;\n",
       "    }\n",
       "</style>\n",
       "<table border=\"1\" class=\"dataframe\">\n",
       "  <thead>\n",
       "    <tr style=\"text-align: right;\">\n",
       "      <th></th>\n",
       "      <th>country_id</th>\n",
       "      <th>country_name</th>\n",
       "      <th>total_medals</th>\n",
       "      <th>first_year</th>\n",
       "      <th>avg_medals_per_year</th>\n",
       "      <th>total_gold</th>\n",
       "      <th>total_silver</th>\n",
       "      <th>total_bronze</th>\n",
       "      <th>years_participated</th>\n",
       "      <th>Age 0 to 14 Years</th>\n",
       "      <th>Age 15 to 64 Years</th>\n",
       "      <th>Age above 65 Years</th>\n",
       "    </tr>\n",
       "  </thead>\n",
       "  <tbody>\n",
       "    <tr>\n",
       "      <th>0</th>\n",
       "      <td>afg</td>\n",
       "      <td>afghanistan</td>\n",
       "      <td>1</td>\n",
       "      <td>2012</td>\n",
       "      <td>1.000000</td>\n",
       "      <td>0</td>\n",
       "      <td>0</td>\n",
       "      <td>1</td>\n",
       "      <td>1</td>\n",
       "      <td>43.20%</td>\n",
       "      <td>54.20%</td>\n",
       "      <td>3%</td>\n",
       "    </tr>\n",
       "    <tr>\n",
       "      <th>1</th>\n",
       "      <td>alb</td>\n",
       "      <td>albania</td>\n",
       "      <td>2</td>\n",
       "      <td>2024</td>\n",
       "      <td>2.000000</td>\n",
       "      <td>0</td>\n",
       "      <td>0</td>\n",
       "      <td>2</td>\n",
       "      <td>1</td>\n",
       "      <td>17.40%</td>\n",
       "      <td>68.90%</td>\n",
       "      <td>13%</td>\n",
       "    </tr>\n",
       "    <tr>\n",
       "      <th>2</th>\n",
       "      <td>arg</td>\n",
       "      <td>argentina</td>\n",
       "      <td>27</td>\n",
       "      <td>1996</td>\n",
       "      <td>9.000000</td>\n",
       "      <td>7</td>\n",
       "      <td>8</td>\n",
       "      <td>12</td>\n",
       "      <td>7</td>\n",
       "      <td>24.90%</td>\n",
       "      <td>63.90%</td>\n",
       "      <td>11%</td>\n",
       "    </tr>\n",
       "    <tr>\n",
       "      <th>3</th>\n",
       "      <td>arm</td>\n",
       "      <td>armenia</td>\n",
       "      <td>17</td>\n",
       "      <td>1996</td>\n",
       "      <td>5.666667</td>\n",
       "      <td>2</td>\n",
       "      <td>10</td>\n",
       "      <td>5</td>\n",
       "      <td>6</td>\n",
       "      <td>20.00%</td>\n",
       "      <td>68.80%</td>\n",
       "      <td>11%</td>\n",
       "    </tr>\n",
       "    <tr>\n",
       "      <th>4</th>\n",
       "      <td>aus</td>\n",
       "      <td>australia</td>\n",
       "      <td>331</td>\n",
       "      <td>1994</td>\n",
       "      <td>30.090909</td>\n",
       "      <td>99</td>\n",
       "      <td>109</td>\n",
       "      <td>123</td>\n",
       "      <td>15</td>\n",
       "      <td>19.00%</td>\n",
       "      <td>65.50%</td>\n",
       "      <td>16%</td>\n",
       "    </tr>\n",
       "  </tbody>\n",
       "</table>\n",
       "</div>"
      ]
     },
     "execution_count": 15,
     "metadata": {},
     "output_type": "execute_result"
    }
   ],
   "execution_count": 15
  },
  {
   "metadata": {
    "ExecuteTime": {
     "end_time": "2024-12-16T23:07:14.822523Z",
     "start_time": "2024-12-16T23:07:14.796833Z"
    }
   },
   "cell_type": "code",
   "source": [
    "# it looks like the only year that has data for all countries is 2020, so let's load olympics_medals data for 2020\n",
    "olympics_medals_df = pd.read_sql(\"SELECT * FROM olympics_medals WHERE year = 2020\", con=engine)\n",
    "olympics_medals_df.head()"
   ],
   "id": "6a18fd070f5de717",
   "outputs": [
    {
     "data": {
      "text/plain": [
       "  nation  gold  silver  bronze  total  year\n",
       "0    USA    39      41      33    113  2020\n",
       "1    CHN    38      32      19     89  2020\n",
       "2    JPN    27      14      17     58  2020\n",
       "3    GBR    22      20      22     64  2020\n",
       "4    ROC    20      28      23     71  2020"
      ],
      "text/html": [
       "<div>\n",
       "<style scoped>\n",
       "    .dataframe tbody tr th:only-of-type {\n",
       "        vertical-align: middle;\n",
       "    }\n",
       "\n",
       "    .dataframe tbody tr th {\n",
       "        vertical-align: top;\n",
       "    }\n",
       "\n",
       "    .dataframe thead th {\n",
       "        text-align: right;\n",
       "    }\n",
       "</style>\n",
       "<table border=\"1\" class=\"dataframe\">\n",
       "  <thead>\n",
       "    <tr style=\"text-align: right;\">\n",
       "      <th></th>\n",
       "      <th>nation</th>\n",
       "      <th>gold</th>\n",
       "      <th>silver</th>\n",
       "      <th>bronze</th>\n",
       "      <th>total</th>\n",
       "      <th>year</th>\n",
       "    </tr>\n",
       "  </thead>\n",
       "  <tbody>\n",
       "    <tr>\n",
       "      <th>0</th>\n",
       "      <td>USA</td>\n",
       "      <td>39</td>\n",
       "      <td>41</td>\n",
       "      <td>33</td>\n",
       "      <td>113</td>\n",
       "      <td>2020</td>\n",
       "    </tr>\n",
       "    <tr>\n",
       "      <th>1</th>\n",
       "      <td>CHN</td>\n",
       "      <td>38</td>\n",
       "      <td>32</td>\n",
       "      <td>19</td>\n",
       "      <td>89</td>\n",
       "      <td>2020</td>\n",
       "    </tr>\n",
       "    <tr>\n",
       "      <th>2</th>\n",
       "      <td>JPN</td>\n",
       "      <td>27</td>\n",
       "      <td>14</td>\n",
       "      <td>17</td>\n",
       "      <td>58</td>\n",
       "      <td>2020</td>\n",
       "    </tr>\n",
       "    <tr>\n",
       "      <th>3</th>\n",
       "      <td>GBR</td>\n",
       "      <td>22</td>\n",
       "      <td>20</td>\n",
       "      <td>22</td>\n",
       "      <td>64</td>\n",
       "      <td>2020</td>\n",
       "    </tr>\n",
       "    <tr>\n",
       "      <th>4</th>\n",
       "      <td>ROC</td>\n",
       "      <td>20</td>\n",
       "      <td>28</td>\n",
       "      <td>23</td>\n",
       "      <td>71</td>\n",
       "      <td>2020</td>\n",
       "    </tr>\n",
       "  </tbody>\n",
       "</table>\n",
       "</div>"
      ]
     },
     "execution_count": 16,
     "metadata": {},
     "output_type": "execute_result"
    }
   ],
   "execution_count": 16
  },
  {
   "metadata": {
    "ExecuteTime": {
     "end_time": "2024-12-16T23:08:49.316388Z",
     "start_time": "2024-12-16T23:08:49.275375Z"
    }
   },
   "cell_type": "code",
   "source": [
    "# merge the olympics_medals data for 2020 with the countries_age_structure data on the country_name column\n",
    "# first we need to merge the olympics_medals_df nation column on the noc_mapping table to get the country_name column\n",
    "noc_mapping_df = pd.read_sql(\"SELECT * FROM noc_mapping\", con=engine)\n",
    "noc_mapping_df.head()\n",
    "\n",
    "# merge the noc_mapping_df with the olympics_medals_df on the nation column\n",
    "olympics_medals_df = pd.merge(olympics_medals_df, noc_mapping_df, left_on='nation', right_on='noc_code')\n",
    "olympics_medals_df.head()\n",
    " \n",
    "# capitalize the country_name column\n",
    "countries_age_structure_df['country_name'] = countries_age_structure_df['country_name'].str.capitalize()\n",
    "\n",
    "# merge the olympics_medals_df with the countries_age_structure_df on the country_name column\n",
    "merged_df = pd.merge(olympics_medals_df, countries_age_structure_df)\n",
    "merged_df.head()\n"
   ],
   "id": "118603e0faefe9a3",
   "outputs": [
    {
     "data": {
      "text/plain": [
       "  nation  gold  silver  bronze  total  year country_name_x noc_code_x  \\\n",
       "0    CHN    38      32      19     89  2020          China        CHN   \n",
       "1    JPN    27      14      17     58  2020          Japan        JPN   \n",
       "2    AUS    17       7      22     46  2020      Australia        AUS   \n",
       "3    FRA    10      12      11     33  2020         France        FRA   \n",
       "4    ITA    10      10      20     40  2020          Italy        ITA   \n",
       "\n",
       "  country_name_y noc_code_y country_name noc_code Age 0 to 14 Years  \\\n",
       "0          China        CHN        China      CHN            17.70%   \n",
       "1          Japan        JPN        Japan      JPN            12.90%   \n",
       "2      Australia        AUS    Australia      AUS            19.00%   \n",
       "3         France        FRA       France      FRA            18.10%   \n",
       "4          Italy        ITA        Italy      ITA            13.50%   \n",
       "\n",
       "  Age 15 to 64 Years Age above 65 Years  \n",
       "0             71.70%                11%  \n",
       "1             60.10%                27%  \n",
       "2             65.50%                16%  \n",
       "3             62.20%                20%  \n",
       "4             63.50%                23%  "
      ],
      "text/html": [
       "<div>\n",
       "<style scoped>\n",
       "    .dataframe tbody tr th:only-of-type {\n",
       "        vertical-align: middle;\n",
       "    }\n",
       "\n",
       "    .dataframe tbody tr th {\n",
       "        vertical-align: top;\n",
       "    }\n",
       "\n",
       "    .dataframe thead th {\n",
       "        text-align: right;\n",
       "    }\n",
       "</style>\n",
       "<table border=\"1\" class=\"dataframe\">\n",
       "  <thead>\n",
       "    <tr style=\"text-align: right;\">\n",
       "      <th></th>\n",
       "      <th>nation</th>\n",
       "      <th>gold</th>\n",
       "      <th>silver</th>\n",
       "      <th>bronze</th>\n",
       "      <th>total</th>\n",
       "      <th>year</th>\n",
       "      <th>country_name_x</th>\n",
       "      <th>noc_code_x</th>\n",
       "      <th>country_name_y</th>\n",
       "      <th>noc_code_y</th>\n",
       "      <th>country_name</th>\n",
       "      <th>noc_code</th>\n",
       "      <th>Age 0 to 14 Years</th>\n",
       "      <th>Age 15 to 64 Years</th>\n",
       "      <th>Age above 65 Years</th>\n",
       "    </tr>\n",
       "  </thead>\n",
       "  <tbody>\n",
       "    <tr>\n",
       "      <th>0</th>\n",
       "      <td>CHN</td>\n",
       "      <td>38</td>\n",
       "      <td>32</td>\n",
       "      <td>19</td>\n",
       "      <td>89</td>\n",
       "      <td>2020</td>\n",
       "      <td>China</td>\n",
       "      <td>CHN</td>\n",
       "      <td>China</td>\n",
       "      <td>CHN</td>\n",
       "      <td>China</td>\n",
       "      <td>CHN</td>\n",
       "      <td>17.70%</td>\n",
       "      <td>71.70%</td>\n",
       "      <td>11%</td>\n",
       "    </tr>\n",
       "    <tr>\n",
       "      <th>1</th>\n",
       "      <td>JPN</td>\n",
       "      <td>27</td>\n",
       "      <td>14</td>\n",
       "      <td>17</td>\n",
       "      <td>58</td>\n",
       "      <td>2020</td>\n",
       "      <td>Japan</td>\n",
       "      <td>JPN</td>\n",
       "      <td>Japan</td>\n",
       "      <td>JPN</td>\n",
       "      <td>Japan</td>\n",
       "      <td>JPN</td>\n",
       "      <td>12.90%</td>\n",
       "      <td>60.10%</td>\n",
       "      <td>27%</td>\n",
       "    </tr>\n",
       "    <tr>\n",
       "      <th>2</th>\n",
       "      <td>AUS</td>\n",
       "      <td>17</td>\n",
       "      <td>7</td>\n",
       "      <td>22</td>\n",
       "      <td>46</td>\n",
       "      <td>2020</td>\n",
       "      <td>Australia</td>\n",
       "      <td>AUS</td>\n",
       "      <td>Australia</td>\n",
       "      <td>AUS</td>\n",
       "      <td>Australia</td>\n",
       "      <td>AUS</td>\n",
       "      <td>19.00%</td>\n",
       "      <td>65.50%</td>\n",
       "      <td>16%</td>\n",
       "    </tr>\n",
       "    <tr>\n",
       "      <th>3</th>\n",
       "      <td>FRA</td>\n",
       "      <td>10</td>\n",
       "      <td>12</td>\n",
       "      <td>11</td>\n",
       "      <td>33</td>\n",
       "      <td>2020</td>\n",
       "      <td>France</td>\n",
       "      <td>FRA</td>\n",
       "      <td>France</td>\n",
       "      <td>FRA</td>\n",
       "      <td>France</td>\n",
       "      <td>FRA</td>\n",
       "      <td>18.10%</td>\n",
       "      <td>62.20%</td>\n",
       "      <td>20%</td>\n",
       "    </tr>\n",
       "    <tr>\n",
       "      <th>4</th>\n",
       "      <td>ITA</td>\n",
       "      <td>10</td>\n",
       "      <td>10</td>\n",
       "      <td>20</td>\n",
       "      <td>40</td>\n",
       "      <td>2020</td>\n",
       "      <td>Italy</td>\n",
       "      <td>ITA</td>\n",
       "      <td>Italy</td>\n",
       "      <td>ITA</td>\n",
       "      <td>Italy</td>\n",
       "      <td>ITA</td>\n",
       "      <td>13.50%</td>\n",
       "      <td>63.50%</td>\n",
       "      <td>23%</td>\n",
       "    </tr>\n",
       "  </tbody>\n",
       "</table>\n",
       "</div>"
      ]
     },
     "execution_count": 23,
     "metadata": {},
     "output_type": "execute_result"
    }
   ],
   "execution_count": 23
  },
  {
   "metadata": {
    "ExecuteTime": {
     "end_time": "2024-12-16T23:09:23.169862Z",
     "start_time": "2024-12-16T23:09:23.141782Z"
    }
   },
   "cell_type": "code",
   "source": [
    "# Convert age group percentages to numeric\n",
    "merged_df['age_0_14'] = merged_df['Age 0 to 14 Years'].str.rstrip('%').astype(float)\n",
    "merged_df['age_15_64'] = merged_df['Age 15 to 64 Years'].str.rstrip('%').astype(float)\n",
    "merged_df['age_above_65'] = merged_df['Age above 65 Years'].str.rstrip('%').astype(float)\n",
    "\n",
    "# Correlation between age groups and total medals\n",
    "age_groups = ['age_0_14', 'age_15_64', 'age_above_65']\n",
    "for group in age_groups:\n",
    "    correlation = merged_df[['total', group]].corr().iloc[0, 1]\n",
    "    print(f\"Correlation between total medals and {group}: {correlation:.2f}\")\n"
   ],
   "id": "5d4d28b4576d1735",
   "outputs": [
    {
     "name": "stdout",
     "output_type": "stream",
     "text": [
      "Correlation between total medals and age_0_14: -0.33\n",
      "Correlation between total medals and age_15_64: 0.05\n",
      "Correlation between total medals and age_above_65: 0.40\n"
     ]
    }
   ],
   "execution_count": 24
  },
  {
   "metadata": {
    "ExecuteTime": {
     "end_time": "2024-12-16T23:10:27.264914Z",
     "start_time": "2024-12-16T23:10:24.274358Z"
    }
   },
   "cell_type": "code",
   "source": [
    "# Visualize age group percentage vs. total medals\n",
    "\n",
    "for group in age_groups:\n",
    "    plt.figure(figsize=(8, 5))\n",
    "    plt.scatter(merged_df[group], merged_df['total'], alpha=0.7)\n",
    "    plt.title(f\"Total Medals vs {group.replace('_', ' ').title()}\")\n",
    "    plt.xlabel(group.replace('_', ' ').title())\n",
    "    plt.ylabel(\"Total Medals\")\n",
    "    plt.grid(True)\n",
    "    plt.show()\n"
   ],
   "id": "743e1c3d1d7ec529",
   "outputs": [
    {
     "data": {
      "text/plain": [
       "<Figure size 800x500 with 1 Axes>"
      ],
      "image/png": "[encoded data removed]"
     },
     "metadata": {},
     "output_type": "display_data"
    },
    {
     "data": {
      "text/plain": [
       "<Figure size 800x500 with 1 Axes>"
      ],
      "image/png": "[encoded data removed]"
     },
     "metadata": {},
     "output_type": "display_data"
    },
    {
     "data": {
      "text/plain": [
       "<Figure size 800x500 with 1 Axes>"
      ],
      "image/png": "[encoded data removed]"
     },
     "metadata": {},
     "output_type": "display_data"
    }
   ],
   "execution_count": 25
  },
  {
   "metadata": {
    "ExecuteTime": {
     "end_time": "2024-12-16T23:11:44.868459Z",
     "start_time": "2024-12-16T23:11:44.842375Z"
    }
   },
   "cell_type": "code",
   "source": [
    "# Top 5 countries by total medals\n",
    "top_countries = merged_df.nlargest(5, 'total')[['country_name', 'total', 'age_0_14', 'age_15_64', 'age_above_65']]\n",
    "print(top_countries)\n"
   ],
   "id": "e43d67d574f753e8",
   "outputs": [
    {
     "name": "stdout",
     "output_type": "stream",
     "text": [
      "  country_name  total  age_0_14  age_15_64  age_above_65\n",
      "0        China     89      17.7       71.7          11.0\n",
      "1        Japan     58      12.9       60.1          27.0\n",
      "2    Australia     46      19.0       65.5          16.0\n",
      "4        Italy     40      13.5       63.5          23.0\n",
      "3       France     33      18.1       62.2          20.0\n"
     ]
    }
   ],
   "execution_count": 26
  },
  {
   "metadata": {
    "ExecuteTime": {
     "end_time": "2024-12-16T23:12:29.281009Z",
     "start_time": "2024-12-16T23:12:29.238077Z"
    }
   },
   "cell_type": "code",
   "source": [
    "# Countries by medal ordered by lowest age_above_65\n",
    "countries_by_age = merged_df.sort_values('age_above_65')[['country_name', 'total', 'age_0_14', 'age_15_64', 'age_above_65']]\n",
    "print(countries_by_age)"
   ],
   "id": "816b96606dbb9915",
   "outputs": [
    {
     "name": "stdout",
     "output_type": "stream",
     "text": [
      "    country_name  total  age_0_14  age_15_64  age_above_65\n",
      "23         Qatar      3      13.9       84.8           1.0\n",
      "20        Uganda      4      47.7       50.1           2.0\n",
      "10         Kenya     10      40.5       56.8           3.0\n",
      "52         Ghana      1      38.5       58.1           3.0\n",
      "45  Turkmenistan      1      30.9       64.8           4.0\n",
      "42        Jordan      2      35.5       60.7           4.0\n",
      "32      Ethiopia      4      40.6       55.9           4.0\n",
      "50         Syria      1      36.6       59.1           4.0\n",
      "43       Namibia      1      36.7       59.8           4.0\n",
      "40    Kyrgyzstan      3      31.8       63.7           5.0\n",
      "46        Brunei      1      23.0       72.4           5.0\n",
      "17    Uzbekistan      5      28.0       67.5           5.0\n",
      "31         Egypt      6      33.5       61.4           5.0\n",
      "28         India      7      27.8       66.2           6.0\n",
      "38    Azerbaijan      7      23.3       70.7           6.0\n",
      "27     Venezuela      4      27.6       65.8           7.0\n",
      "36       Morocco      1      27.4       65.8           7.0\n",
      "47    Kazakhstan      8      27.9       65.1           7.0\n",
      "48        Mexico      4      26.7       66.5           7.0\n",
      "21       Ecuador      3      28.4       64.5           7.0\n",
      "19        Turkey     13      25.0       66.9           8.0\n",
      "37      Colombia      5      23.5       68.9           8.0\n",
      "33       Tunisia      2      24.0       68.0           8.0\n",
      "6         Brazil     21      21.7       69.7           9.0\n",
      "12       Jamaica      9      22.7       67.6          10.0\n",
      "41     Argentina      3      24.9       63.9          11.0\n",
      "35      Thailand      2      17.3       71.3          11.0\n",
      "0          China     89      17.7       71.7          11.0\n",
      "51       Moldova      1      15.7       73.4          11.0\n",
      "39       Armenia      4      20.0       68.8          11.0\n",
      "22       Ireland      4      21.6       64.4          14.0\n",
      "7           Cuba     15      16.1       69.2          15.0\n",
      "29      Slovakia      4      15.4       69.6          15.0\n",
      "18       Georgia      8      19.2       66.0          15.0\n",
      "25       Belarus      7      16.7       68.5          15.0\n",
      "2      Australia     46      19.0       65.5          16.0\n",
      "5         Canada     24      16.0       67.0          17.0\n",
      "11        Norway      8      17.8       65.4          17.0\n",
      "15        Serbia      9      16.5       66.2          17.0\n",
      "24       Ukraine     19      15.5       68.0          17.0\n",
      "9         Poland     14      14.8       68.4          17.0\n",
      "26       Romania      4      15.3       66.9          18.0\n",
      "44     Lithuania      1      14.8       66.2          19.0\n",
      "8        Hungary     20      14.3       67.1          19.0\n",
      "30       Austria      7      14.1       66.7          19.0\n",
      "16       Belgium      7      17.1       64.3          19.0\n",
      "13         Spain     17      14.7       65.9          19.0\n",
      "14        Sweden      9      17.5       62.5          20.0\n",
      "3         France     33      18.1       62.2          20.0\n",
      "34       Estonia      2      16.4       64.2          20.0\n",
      "49       Finland      2      16.4       62.4          21.0\n",
      "4          Italy     40      13.5       63.5          23.0\n",
      "1          Japan     58      12.9       60.1          27.0\n"
     ]
    }
   ],
   "execution_count": 28
  }
 ],
 "metadata": {
  "kernelspec": {
   "display_name": "Python 3",
   "language": "python",
   "name": "python3"
  },
  "language_info": {
   "codemirror_mode": {
    "name": "ipython",
    "version": 2
   },
   "file_extension": ".py",
   "mimetype": "text/x-python",
   "name": "python",
   "nbconvert_exporter": "python",
   "pygments_lexer": "ipython2",
   "version": "2.7.6"
  }
 },
 "nbformat": 4,
 "nbformat_minor": 5
}
