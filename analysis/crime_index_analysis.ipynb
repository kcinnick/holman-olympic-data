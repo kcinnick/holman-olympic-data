{
 "cells": [
  {
   "cell_type": "code",
   "id": "initial_id",
   "metadata": {
    "collapsed": true,
    "ExecuteTime": {
     "end_time": "2024-12-17T03:47:44.086462Z",
     "start_time": "2024-12-17T03:47:44.079129Z"
    }
   },
   "source": [
    "import os\n",
    "\n",
    "import pandas as pd\n",
    "from dotenv import load_dotenv\n",
    "from sqlalchemy import create_engine\n",
    "\n",
    "# Load environment variables from .env file\n",
    "load_dotenv()"
   ],
   "outputs": [
    {
     "data": {
      "text/plain": [
       "True"
      ]
     },
     "execution_count": 64,
     "metadata": {},
     "output_type": "execute_result"
    }
   ],
   "execution_count": 64
  },
  {
   "metadata": {
    "ExecuteTime": {
     "end_time": "2024-12-17T03:47:44.104490Z",
     "start_time": "2024-12-17T03:47:44.087475Z"
    }
   },
   "cell_type": "code",
   "source": [
    "\n",
    "# Load the crime index data\n",
    "crime_data_path = r\"C:\\Users\\Nick\\PycharmProjects\\holman-olympic-data\\datasets\\countries_health\\Crime index by countries 2020.csv\"\n",
    "crime_df = pd.read_csv(crime_data_path, names=[\"country\", \"crime_index\", \"safety_index\"])\n",
    "\n",
    "# Normalize country names (lowercase and strip spaces)\n",
    "crime_df[\"country\"] = crime_df[\"country\"].str.lower().str.strip()\n",
    "\n",
    "# Display the first few rows\n",
    "print(\"Crime Index Data:\")\n",
    "crime_df.head()\n"
   ],
   "id": "c881e2a8cb833215",
   "outputs": [
    {
     "name": "stdout",
     "output_type": "stream",
     "text": [
      "Crime Index Data:\n"
     ]
    },
    {
     "data": {
      "text/plain": [
       "            country  crime_index  safety_index\n",
       "0           country  Crime Index  Safety Index\n",
       "1         venezuela        84.49         15.51\n",
       "2  papua new guinea        81.93         18.07\n",
       "3      south africa        77.49         22.51\n",
       "4       afghanistan        76.23         23.77"
      ],
      "text/html": [
       "<div>\n",
       "<style scoped>\n",
       "    .dataframe tbody tr th:only-of-type {\n",
       "        vertical-align: middle;\n",
       "    }\n",
       "\n",
       "    .dataframe tbody tr th {\n",
       "        vertical-align: top;\n",
       "    }\n",
       "\n",
       "    .dataframe thead th {\n",
       "        text-align: right;\n",
       "    }\n",
       "</style>\n",
       "<table border=\"1\" class=\"dataframe\">\n",
       "  <thead>\n",
       "    <tr style=\"text-align: right;\">\n",
       "      <th></th>\n",
       "      <th>country</th>\n",
       "      <th>crime_index</th>\n",
       "      <th>safety_index</th>\n",
       "    </tr>\n",
       "  </thead>\n",
       "  <tbody>\n",
       "    <tr>\n",
       "      <th>0</th>\n",
       "      <td>country</td>\n",
       "      <td>Crime Index</td>\n",
       "      <td>Safety Index</td>\n",
       "    </tr>\n",
       "    <tr>\n",
       "      <th>1</th>\n",
       "      <td>venezuela</td>\n",
       "      <td>84.49</td>\n",
       "      <td>15.51</td>\n",
       "    </tr>\n",
       "    <tr>\n",
       "      <th>2</th>\n",
       "      <td>papua new guinea</td>\n",
       "      <td>81.93</td>\n",
       "      <td>18.07</td>\n",
       "    </tr>\n",
       "    <tr>\n",
       "      <th>3</th>\n",
       "      <td>south africa</td>\n",
       "      <td>77.49</td>\n",
       "      <td>22.51</td>\n",
       "    </tr>\n",
       "    <tr>\n",
       "      <th>4</th>\n",
       "      <td>afghanistan</td>\n",
       "      <td>76.23</td>\n",
       "      <td>23.77</td>\n",
       "    </tr>\n",
       "  </tbody>\n",
       "</table>\n",
       "</div>"
      ]
     },
     "execution_count": 65,
     "metadata": {},
     "output_type": "execute_result"
    }
   ],
   "execution_count": 65
  },
  {
   "metadata": {
    "ExecuteTime": {
     "end_time": "2024-12-17T03:47:44.111013Z",
     "start_time": "2024-12-17T03:47:44.105500Z"
    }
   },
   "cell_type": "code",
   "source": [
    "# Connect to the database\n",
    "database_url = os.getenv(\"DATABASE_URL\")\n",
    "engine = create_engine(database_url, echo=False)\n"
   ],
   "id": "fe8a933e4390f6ab",
   "outputs": [],
   "execution_count": 66
  },
  {
   "metadata": {
    "ExecuteTime": {
     "end_time": "2024-12-17T03:47:44.349188Z",
     "start_time": "2024-12-17T03:47:44.112021Z"
    }
   },
   "cell_type": "code",
   "source": [
    "# Custom mapping for country names in the olympics medals data\n",
    "country_code_mapping = {\n",
    "    \"ROC\": \"RUS\"  # Replace ROC with RUS for Russia\n",
    "}\n",
    "\n",
    "# Load the olympics medals data\n",
    "olympics_medals_df = pd.read_sql_table(\"olympics_medals\", con=engine)\n",
    "\n",
    "# Filter the rows for the 2020 Olympics\n",
    "olympics_medals_2020_df = olympics_medals_df[olympics_medals_df[\"year\"] == 2020]\n",
    "\n",
    "# Replace 'ROC' with 'RUS' in the 'nation' column to normalize the country codes\n",
    "olympics_medals_2020_df[\"nation\"] = olympics_medals_2020_df[\"nation\"].replace(country_code_mapping)\n",
    "\n",
    "# Verify the change\n",
    "olympics_medals_2020_df.head()"
   ],
   "id": "f4a886104c6da830",
   "outputs": [
    {
     "name": "stderr",
     "output_type": "stream",
     "text": [
      "C:\\Users\\Nick\\AppData\\Local\\Temp\\ipykernel_11268\\3853884759.py:13: SettingWithCopyWarning: \n",
      "A value is trying to be set on a copy of a slice from a DataFrame.\n",
      "Try using .loc[row_indexer,col_indexer] = value instead\n",
      "\n",
      "See the caveats in the documentation: https://pandas.pydata.org/pandas-docs/stable/user_guide/indexing.html#returning-a-view-versus-a-copy\n",
      "  olympics_medals_2020_df[\"nation\"] = olympics_medals_2020_df[\"nation\"].replace(country_code_mapping)\n"
     ]
    },
    {
     "data": {
      "text/plain": [
       "    nation  gold  silver  bronze  total  year\n",
       "647    USA    39      41      33    113  2020\n",
       "648    CHN    38      32      19     89  2020\n",
       "649    JPN    27      14      17     58  2020\n",
       "650    GBR    22      20      22     64  2020\n",
       "651    AUS    17       7      22     46  2020"
      ],
      "text/html": [
       "<div>\n",
       "<style scoped>\n",
       "    .dataframe tbody tr th:only-of-type {\n",
       "        vertical-align: middle;\n",
       "    }\n",
       "\n",
       "    .dataframe tbody tr th {\n",
       "        vertical-align: top;\n",
       "    }\n",
       "\n",
       "    .dataframe thead th {\n",
       "        text-align: right;\n",
       "    }\n",
       "</style>\n",
       "<table border=\"1\" class=\"dataframe\">\n",
       "  <thead>\n",
       "    <tr style=\"text-align: right;\">\n",
       "      <th></th>\n",
       "      <th>nation</th>\n",
       "      <th>gold</th>\n",
       "      <th>silver</th>\n",
       "      <th>bronze</th>\n",
       "      <th>total</th>\n",
       "      <th>year</th>\n",
       "    </tr>\n",
       "  </thead>\n",
       "  <tbody>\n",
       "    <tr>\n",
       "      <th>647</th>\n",
       "      <td>USA</td>\n",
       "      <td>39</td>\n",
       "      <td>41</td>\n",
       "      <td>33</td>\n",
       "      <td>113</td>\n",
       "      <td>2020</td>\n",
       "    </tr>\n",
       "    <tr>\n",
       "      <th>648</th>\n",
       "      <td>CHN</td>\n",
       "      <td>38</td>\n",
       "      <td>32</td>\n",
       "      <td>19</td>\n",
       "      <td>89</td>\n",
       "      <td>2020</td>\n",
       "    </tr>\n",
       "    <tr>\n",
       "      <th>649</th>\n",
       "      <td>JPN</td>\n",
       "      <td>27</td>\n",
       "      <td>14</td>\n",
       "      <td>17</td>\n",
       "      <td>58</td>\n",
       "      <td>2020</td>\n",
       "    </tr>\n",
       "    <tr>\n",
       "      <th>650</th>\n",
       "      <td>GBR</td>\n",
       "      <td>22</td>\n",
       "      <td>20</td>\n",
       "      <td>22</td>\n",
       "      <td>64</td>\n",
       "      <td>2020</td>\n",
       "    </tr>\n",
       "    <tr>\n",
       "      <th>651</th>\n",
       "      <td>AUS</td>\n",
       "      <td>17</td>\n",
       "      <td>7</td>\n",
       "      <td>22</td>\n",
       "      <td>46</td>\n",
       "      <td>2020</td>\n",
       "    </tr>\n",
       "  </tbody>\n",
       "</table>\n",
       "</div>"
      ]
     },
     "execution_count": 67,
     "metadata": {},
     "output_type": "execute_result"
    }
   ],
   "execution_count": 67
  },
  {
   "metadata": {
    "ExecuteTime": {
     "end_time": "2024-12-17T03:47:44.379821Z",
     "start_time": "2024-12-17T03:47:44.350198Z"
    }
   },
   "cell_type": "code",
   "source": [
    "# Load the noc_mapping table so we can map the olympics_medals_2020_df to the country names in the crime_df\n",
    "noc_mapping_df = pd.read_sql_table(\"noc_mapping\", con=engine)\n",
    "noc_mapping_df.head()"
   ],
   "id": "baaf55b80e2ca230",
   "outputs": [
    {
     "data": {
      "text/plain": [
       "    country_name noc_code\n",
       "0  South Georgia      SGS\n",
       "1        Grenada      GRD\n",
       "2    Switzerland      CHE\n",
       "3   Sierra Leone      SLE\n",
       "4        Hungary      HUN"
      ],
      "text/html": [
       "<div>\n",
       "<style scoped>\n",
       "    .dataframe tbody tr th:only-of-type {\n",
       "        vertical-align: middle;\n",
       "    }\n",
       "\n",
       "    .dataframe tbody tr th {\n",
       "        vertical-align: top;\n",
       "    }\n",
       "\n",
       "    .dataframe thead th {\n",
       "        text-align: right;\n",
       "    }\n",
       "</style>\n",
       "<table border=\"1\" class=\"dataframe\">\n",
       "  <thead>\n",
       "    <tr style=\"text-align: right;\">\n",
       "      <th></th>\n",
       "      <th>country_name</th>\n",
       "      <th>noc_code</th>\n",
       "    </tr>\n",
       "  </thead>\n",
       "  <tbody>\n",
       "    <tr>\n",
       "      <th>0</th>\n",
       "      <td>South Georgia</td>\n",
       "      <td>SGS</td>\n",
       "    </tr>\n",
       "    <tr>\n",
       "      <th>1</th>\n",
       "      <td>Grenada</td>\n",
       "      <td>GRD</td>\n",
       "    </tr>\n",
       "    <tr>\n",
       "      <th>2</th>\n",
       "      <td>Switzerland</td>\n",
       "      <td>CHE</td>\n",
       "    </tr>\n",
       "    <tr>\n",
       "      <th>3</th>\n",
       "      <td>Sierra Leone</td>\n",
       "      <td>SLE</td>\n",
       "    </tr>\n",
       "    <tr>\n",
       "      <th>4</th>\n",
       "      <td>Hungary</td>\n",
       "      <td>HUN</td>\n",
       "    </tr>\n",
       "  </tbody>\n",
       "</table>\n",
       "</div>"
      ]
     },
     "execution_count": 68,
     "metadata": {},
     "output_type": "execute_result"
    }
   ],
   "execution_count": 68
  },
  {
   "metadata": {
    "ExecuteTime": {
     "end_time": "2024-12-17T03:47:44.399085Z",
     "start_time": "2024-12-17T03:47:44.381838Z"
    }
   },
   "cell_type": "code",
   "source": [
    "# Merge the olympics_medals_2020_df with the noc_mapping_df to get the country names\n",
    "olympics_medals_2020_df = pd.merge(olympics_medals_2020_df, noc_mapping_df, how=\"left\", left_on='nation', right_on='noc_code')\n",
    "olympics_medals_2020_df.head()"
   ],
   "id": "712ca35ba19feb7f",
   "outputs": [
    {
     "data": {
      "text/plain": [
       "  nation  gold  silver  bronze  total  year    country_name noc_code\n",
       "0    USA    39      41      33    113  2020   United States      USA\n",
       "1    CHN    38      32      19     89  2020           China      CHN\n",
       "2    JPN    27      14      17     58  2020           Japan      JPN\n",
       "3    GBR    22      20      22     64  2020  United Kingdom      GBR\n",
       "4    AUS    17       7      22     46  2020       Australia      AUS"
      ],
      "text/html": [
       "<div>\n",
       "<style scoped>\n",
       "    .dataframe tbody tr th:only-of-type {\n",
       "        vertical-align: middle;\n",
       "    }\n",
       "\n",
       "    .dataframe tbody tr th {\n",
       "        vertical-align: top;\n",
       "    }\n",
       "\n",
       "    .dataframe thead th {\n",
       "        text-align: right;\n",
       "    }\n",
       "</style>\n",
       "<table border=\"1\" class=\"dataframe\">\n",
       "  <thead>\n",
       "    <tr style=\"text-align: right;\">\n",
       "      <th></th>\n",
       "      <th>nation</th>\n",
       "      <th>gold</th>\n",
       "      <th>silver</th>\n",
       "      <th>bronze</th>\n",
       "      <th>total</th>\n",
       "      <th>year</th>\n",
       "      <th>country_name</th>\n",
       "      <th>noc_code</th>\n",
       "    </tr>\n",
       "  </thead>\n",
       "  <tbody>\n",
       "    <tr>\n",
       "      <th>0</th>\n",
       "      <td>USA</td>\n",
       "      <td>39</td>\n",
       "      <td>41</td>\n",
       "      <td>33</td>\n",
       "      <td>113</td>\n",
       "      <td>2020</td>\n",
       "      <td>United States</td>\n",
       "      <td>USA</td>\n",
       "    </tr>\n",
       "    <tr>\n",
       "      <th>1</th>\n",
       "      <td>CHN</td>\n",
       "      <td>38</td>\n",
       "      <td>32</td>\n",
       "      <td>19</td>\n",
       "      <td>89</td>\n",
       "      <td>2020</td>\n",
       "      <td>China</td>\n",
       "      <td>CHN</td>\n",
       "    </tr>\n",
       "    <tr>\n",
       "      <th>2</th>\n",
       "      <td>JPN</td>\n",
       "      <td>27</td>\n",
       "      <td>14</td>\n",
       "      <td>17</td>\n",
       "      <td>58</td>\n",
       "      <td>2020</td>\n",
       "      <td>Japan</td>\n",
       "      <td>JPN</td>\n",
       "    </tr>\n",
       "    <tr>\n",
       "      <th>3</th>\n",
       "      <td>GBR</td>\n",
       "      <td>22</td>\n",
       "      <td>20</td>\n",
       "      <td>22</td>\n",
       "      <td>64</td>\n",
       "      <td>2020</td>\n",
       "      <td>United Kingdom</td>\n",
       "      <td>GBR</td>\n",
       "    </tr>\n",
       "    <tr>\n",
       "      <th>4</th>\n",
       "      <td>AUS</td>\n",
       "      <td>17</td>\n",
       "      <td>7</td>\n",
       "      <td>22</td>\n",
       "      <td>46</td>\n",
       "      <td>2020</td>\n",
       "      <td>Australia</td>\n",
       "      <td>AUS</td>\n",
       "    </tr>\n",
       "  </tbody>\n",
       "</table>\n",
       "</div>"
      ]
     },
     "execution_count": 69,
     "metadata": {},
     "output_type": "execute_result"
    }
   ],
   "execution_count": 69
  },
  {
   "metadata": {
    "ExecuteTime": {
     "end_time": "2024-12-17T03:47:47.892636Z",
     "start_time": "2024-12-17T03:47:47.876061Z"
    }
   },
   "cell_type": "code",
   "source": [
    "# Lowercase the country_name column to match the crime_df\n",
    "olympics_medals_2020_df[\"country_name\"] = olympics_medals_2020_df[\"country_name\"].str.lower()\n",
    "\n",
    "# Merge the olympics_medals_2020_df with the crime_df to get the crime index data\n",
    "olympics_medals_2020_df = pd.merge(olympics_medals_2020_df, crime_df, how=\"left\", left_on='country_name', right_on='country')\n",
    "olympics_medals_2020_df.head()"
   ],
   "id": "f2c1db2045b3065c",
   "outputs": [
    {
     "data": {
      "text/plain": [
       "  nation  gold  silver  bronze  total  year    country_name noc_code  \\\n",
       "0    USA    39      41      33    113  2020   united states      USA   \n",
       "1    CHN    38      32      19     89  2020           china      CHN   \n",
       "2    JPN    27      14      17     58  2020           japan      JPN   \n",
       "3    GBR    22      20      22     64  2020  united kingdom      GBR   \n",
       "4    AUS    17       7      22     46  2020       australia      AUS   \n",
       "\n",
       "        country_x crime_index_x safety_index_x       country_y crime_index_y  \\\n",
       "0   united states          47.2           52.8   united states          47.2   \n",
       "1           china         31.83          68.17           china         31.83   \n",
       "2           japan         20.66          79.34           japan         20.66   \n",
       "3  united kingdom         43.71          56.29  united kingdom         43.71   \n",
       "4       australia         41.36          58.64       australia         41.36   \n",
       "\n",
       "  safety_index_y  \n",
       "0           52.8  \n",
       "1          68.17  \n",
       "2          79.34  \n",
       "3          56.29  \n",
       "4          58.64  "
      ],
      "text/html": [
       "<div>\n",
       "<style scoped>\n",
       "    .dataframe tbody tr th:only-of-type {\n",
       "        vertical-align: middle;\n",
       "    }\n",
       "\n",
       "    .dataframe tbody tr th {\n",
       "        vertical-align: top;\n",
       "    }\n",
       "\n",
       "    .dataframe thead th {\n",
       "        text-align: right;\n",
       "    }\n",
       "</style>\n",
       "<table border=\"1\" class=\"dataframe\">\n",
       "  <thead>\n",
       "    <tr style=\"text-align: right;\">\n",
       "      <th></th>\n",
       "      <th>nation</th>\n",
       "      <th>gold</th>\n",
       "      <th>silver</th>\n",
       "      <th>bronze</th>\n",
       "      <th>total</th>\n",
       "      <th>year</th>\n",
       "      <th>country_name</th>\n",
       "      <th>noc_code</th>\n",
       "      <th>country_x</th>\n",
       "      <th>crime_index_x</th>\n",
       "      <th>safety_index_x</th>\n",
       "      <th>country_y</th>\n",
       "      <th>crime_index_y</th>\n",
       "      <th>safety_index_y</th>\n",
       "    </tr>\n",
       "  </thead>\n",
       "  <tbody>\n",
       "    <tr>\n",
       "      <th>0</th>\n",
       "      <td>USA</td>\n",
       "      <td>39</td>\n",
       "      <td>41</td>\n",
       "      <td>33</td>\n",
       "      <td>113</td>\n",
       "      <td>2020</td>\n",
       "      <td>united states</td>\n",
       "      <td>USA</td>\n",
       "      <td>united states</td>\n",
       "      <td>47.2</td>\n",
       "      <td>52.8</td>\n",
       "      <td>united states</td>\n",
       "      <td>47.2</td>\n",
       "      <td>52.8</td>\n",
       "    </tr>\n",
       "    <tr>\n",
       "      <th>1</th>\n",
       "      <td>CHN</td>\n",
       "      <td>38</td>\n",
       "      <td>32</td>\n",
       "      <td>19</td>\n",
       "      <td>89</td>\n",
       "      <td>2020</td>\n",
       "      <td>china</td>\n",
       "      <td>CHN</td>\n",
       "      <td>china</td>\n",
       "      <td>31.83</td>\n",
       "      <td>68.17</td>\n",
       "      <td>china</td>\n",
       "      <td>31.83</td>\n",
       "      <td>68.17</td>\n",
       "    </tr>\n",
       "    <tr>\n",
       "      <th>2</th>\n",
       "      <td>JPN</td>\n",
       "      <td>27</td>\n",
       "      <td>14</td>\n",
       "      <td>17</td>\n",
       "      <td>58</td>\n",
       "      <td>2020</td>\n",
       "      <td>japan</td>\n",
       "      <td>JPN</td>\n",
       "      <td>japan</td>\n",
       "      <td>20.66</td>\n",
       "      <td>79.34</td>\n",
       "      <td>japan</td>\n",
       "      <td>20.66</td>\n",
       "      <td>79.34</td>\n",
       "    </tr>\n",
       "    <tr>\n",
       "      <th>3</th>\n",
       "      <td>GBR</td>\n",
       "      <td>22</td>\n",
       "      <td>20</td>\n",
       "      <td>22</td>\n",
       "      <td>64</td>\n",
       "      <td>2020</td>\n",
       "      <td>united kingdom</td>\n",
       "      <td>GBR</td>\n",
       "      <td>united kingdom</td>\n",
       "      <td>43.71</td>\n",
       "      <td>56.29</td>\n",
       "      <td>united kingdom</td>\n",
       "      <td>43.71</td>\n",
       "      <td>56.29</td>\n",
       "    </tr>\n",
       "    <tr>\n",
       "      <th>4</th>\n",
       "      <td>AUS</td>\n",
       "      <td>17</td>\n",
       "      <td>7</td>\n",
       "      <td>22</td>\n",
       "      <td>46</td>\n",
       "      <td>2020</td>\n",
       "      <td>australia</td>\n",
       "      <td>AUS</td>\n",
       "      <td>australia</td>\n",
       "      <td>41.36</td>\n",
       "      <td>58.64</td>\n",
       "      <td>australia</td>\n",
       "      <td>41.36</td>\n",
       "      <td>58.64</td>\n",
       "    </tr>\n",
       "  </tbody>\n",
       "</table>\n",
       "</div>"
      ]
     },
     "execution_count": 71,
     "metadata": {},
     "output_type": "execute_result"
    }
   ],
   "execution_count": 71
  },
  {
   "metadata": {
    "ExecuteTime": {
     "end_time": "2024-12-17T03:53:53.485455Z",
     "start_time": "2024-12-17T03:53:53.323058Z"
    }
   },
   "cell_type": "code",
   "source": [
    "import matplotlib.pyplot as plt\n",
    "\n",
    "olympics_medals_2020_df['crime_index_x'] = olympics_medals_2020_df['crime_index_x'].astype(float)\n",
    "\n",
    "# Thresholds for 'high crime' and 'high medals'\n",
    "high_crime_threshold = 40.0\n",
    "high_medals_threshold = 50\n",
    "\n",
    "# Filter countries meeting both conditions\n",
    "high_crime_high_medals = olympics_medals_2020_df[\n",
    "    (olympics_medals_2020_df['crime_index_x'] > high_crime_threshold) & \n",
    "    (olympics_medals_2020_df['total'] > high_medals_threshold)\n",
    "]\n",
    "\n",
    "# Display the results\n",
    "print(\"Countries with High Medals and High Crime Index:\")\n",
    "print(high_crime_high_medals[['nation', 'total', 'crime_index_x']])\n",
    "\n",
    "# Visualize the results\n",
    "plt.figure(figsize=(10, 6))\n",
    "plt.scatter(high_crime_high_medals['crime_index_x'], high_crime_high_medals['total'], color='red', alpha=0.7)\n",
    "plt.title(\"Countries with High Crime Index and High Medals\")\n",
    "plt.xlabel(\"Crime Index\")\n",
    "plt.ylabel(\"Total Medals\")\n",
    "plt.grid(True)\n",
    "plt.show()\n"
   ],
   "id": "62ed9c09adbbd68a",
   "outputs": [
    {
     "name": "stdout",
     "output_type": "stream",
     "text": [
      "Countries with High Medals and High Crime Index:\n",
      "   nation  total  crime_index_x\n",
      "0     USA    113          47.20\n",
      "3     GBR     64          43.71\n",
      "91    RUS     71          41.12\n"
     ]
    },
    {
     "data": {
      "text/plain": [
       "<Figure size 1000x600 with 1 Axes>"
      ],
      "image/png": "[encoded data removed]"
     },
     "metadata": {},
     "output_type": "display_data"
    }
   ],
   "execution_count": 83
  }
 ],
 "metadata": {
  "kernelspec": {
   "display_name": "Python 3",
   "language": "python",
   "name": "python3"
  },
  "language_info": {
   "codemirror_mode": {
    "name": "ipython",
    "version": 2
   },
   "file_extension": ".py",
   "mimetype": "text/x-python",
   "name": "python",
   "nbconvert_exporter": "python",
   "pygments_lexer": "ipython2",
   "version": "2.7.6"
  }
 },
 "nbformat": 4,
 "nbformat_minor": 5
}
